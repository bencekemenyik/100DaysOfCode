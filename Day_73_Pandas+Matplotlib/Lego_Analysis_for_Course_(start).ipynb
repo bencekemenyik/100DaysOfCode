{
 "nbformat": 4,
 "nbformat_minor": 0,
 "metadata": {
  "kernelspec": {
   "display_name": "Python 3",
   "language": "python",
   "name": "python3"
  },
  "language_info": {
   "codemirror_mode": {
    "name": "ipython",
    "version": 3
   },
   "file_extension": ".py",
   "mimetype": "text/x-python",
   "name": "python",
   "nbconvert_exporter": "python",
   "pygments_lexer": "ipython3",
   "version": "3.7.3"
  },
  "colab": {
   "name": "Lego_Analysis_for_Course_(start).ipynb",
   "provenance": [],
   "collapsed_sections": [
    "xrDeNYYXIqu1",
    "uBbt9-lJIqu7",
    "bAeTe2XqIqvB",
    "xK226Ip-IqvE",
    "J_0iuerKIqvG",
    "SmTCXWKKIqvQ"
   ]
  }
 },
 "cells": [
  {
   "cell_type": "markdown",
   "metadata": {
    "dc": {
     "key": "1d0b086e6c"
    },
    "run_control": {
     "frozen": true
    },
    "tags": [
     "context"
    ],
    "id": "s9JLDE8NIquP"
   },
   "source": [
    "# Introduction\n",
    "\n",
    "Today we'll dive deep into a dataset all about LEGO. From the dataset we can ask whole bunch of interesting questions about the history of the LEGO company, their product offering, and which LEGO set ultimately rules them all:\n",
    "\n",
    "<ul type=\"square\">\n",
    "<li>What is the most enormous LEGO set ever created and how many parts did it have?</li>\n",
    "\n",
    "<li>How did the LEGO company start out? In which year were the first LEGO sets released and how many sets did the company sell when it first launched?</li>\n",
    "\n",
    "<li>Which LEGO theme has the most sets? Is it one of LEGO's own themes like Ninjago or a theme they licensed liked Harry Potter or Marvel Superheroes?</li>\n",
    "\n",
    "<li>When did the LEGO company really expand its product offering? Can we spot a change in the company strategy based on how many themes and sets did it released year-on-year?</li>\n",
    "\n",
    "<li>Did LEGO sets grow in size and complexity over time? Do older LEGO \n",
    "sets tend to have more or fewer parts than newer sets?</li>\n",
    "</ul>\n",
    "\n",
    "**Data Source**\n",
    "\n",
    "[Rebrickable](https://rebrickable.com/downloads/) has compiled data on all the LEGO pieces in existence. I recommend you use download the .csv files provided in this lesson. "
   ]
  },
  {
   "cell_type": "markdown",
   "metadata": {
    "id": "Vqwtcc10R_XM"
   },
   "source": [
    "<img src=\"https://i.imgur.com/49FNOHj.jpg\">"
   ]
  },
  {
   "cell_type": "markdown",
   "metadata": {
    "id": "V0u2lGJuIquQ"
   },
   "source": [
    "# Import Statements"
   ]
  },
  {
   "cell_type": "code",
   "metadata": {
    "id": "z5Wk7rs-IquQ"
   },
   "source": [
    "import pandas as pd\n",
    "import matplotlib.pyplot as plt"
   ],
   "execution_count": 26,
   "outputs": []
  },
  {
   "cell_type": "markdown",
   "metadata": {
    "id": "R5NQpJ_KIquT"
   },
   "source": [
    "# Data Exploration"
   ]
  },
  {
   "cell_type": "markdown",
   "metadata": {
    "dc": {
     "key": "044b2cef41"
    },
    "run_control": {
     "frozen": true
    },
    "tags": [
     "context"
    ],
    "id": "ffaG-UFYIquT"
   },
   "source": [
    "**Challenge**: How many different colours does the LEGO company produce? Read the colors.csv file in the data folder and find the total number of unique colours. Try using the [.nunique() method](https://pandas.pydata.org/pandas-docs/stable/reference/api/pandas.DataFrame.nunique.html?highlight=nunique#pandas.DataFrame.nunique) to accomplish this."
   ]
  },
  {
   "cell_type": "code",
   "metadata": {
    "id": "yd4G9pK7IquU"
   },
   "source": [
    "colors_df = pd.read_csv('data/colors.csv')"
   ],
   "execution_count": 5,
   "outputs": []
  },
  {
   "cell_type": "code",
   "metadata": {
    "dc": {
     "key": "044b2cef41"
    },
    "tags": [
     "sample_code"
    ],
    "id": "QmbAXax7IquW",
    "colab": {
     "base_uri": "https://localhost:8080/"
    },
    "outputId": "ad805e7b-9173-45cb-b640-b6feafbd05a1"
   },
   "source": [
    "colors_df.head"
   ],
   "execution_count": 21,
   "outputs": [
    {
     "output_type": "execute_result",
     "data": {
      "text/plain": [
       "<bound method NDFrame.head of        id                          name     rgb is_trans\n",
       "0      -1                       Unknown  0033B2        f\n",
       "1       0                         Black  05131D        f\n",
       "2       1                          Blue  0055BF        f\n",
       "3       2                         Green  237841        f\n",
       "4       3                Dark Turquoise  008F9B        f\n",
       "..    ...                           ...     ...      ...\n",
       "130  1004  Trans Flame Yellowish Orange  FCB76D        t\n",
       "131  1005             Trans Fire Yellow  FBE890        t\n",
       "132  1006        Trans Light Royal Blue  B4D4F7        t\n",
       "133  1007                 Reddish Lilac  8E5597        f\n",
       "134  9999                    [No Color]  05131D        f\n",
       "\n",
       "[135 rows x 4 columns]>"
      ]
     },
     "metadata": {},
     "execution_count": 21
    }
   ]
  },
  {
   "cell_type": "code",
   "metadata": {
    "dc": {
     "key": "15c1e2ce38"
    },
    "tags": [
     "sample_code"
    ],
    "id": "SMc2sKiIIquY",
    "colab": {
     "base_uri": "https://localhost:8080/"
    },
    "outputId": "6362fee1-8b5f-434d-e89a-e05ed977898d"
   },
   "source": [
    "colors_df['rgb'].nunique()\n"
   ],
   "execution_count": 22,
   "outputs": [
    {
     "output_type": "execute_result",
     "data": {
      "text/plain": [
       "124"
      ]
     },
     "metadata": {},
     "execution_count": 22
    }
   ]
  },
  {
   "cell_type": "markdown",
   "metadata": {
    "dc": {
     "key": "a5723ae5c2"
    },
    "run_control": {
     "frozen": true
    },
    "tags": [
     "context"
    ],
    "id": "PItRbqgcIqua"
   },
   "source": [
    "**Challenge**: Find the number of transparent colours where <code>is_trans == 't'</code> versus the number of opaque colours where <code>is_trans == 'f'</code>. See if you can accomplish this in two different ways."
   ]
  },
  {
   "cell_type": "code",
   "metadata": {
    "id": "1UZrfq82Iqub",
    "colab": {
     "base_uri": "https://localhost:8080/"
    },
    "outputId": "07e4b356-27a4-4092-92f5-c48db8fd6410"
   },
   "source": [
    "colors_df.value_counts(['is_trans'])"
   ],
   "execution_count": 15,
   "outputs": [
    {
     "output_type": "execute_result",
     "data": {
      "text/plain": [
       "is_trans\n",
       "f           107\n",
       "t            28\n",
       "dtype: int64"
      ]
     },
     "metadata": {},
     "execution_count": 15
    }
   ]
  },
  {
   "cell_type": "code",
   "metadata": {
    "id": "KQFf-leCIqud",
    "colab": {
     "base_uri": "https://localhost:8080/"
    },
    "outputId": "137a0b78-863a-4e05-9324-7656c892d3fc"
   },
   "source": [
    "colors_df.groupby('is_trans').count()['id']"
   ],
   "execution_count": 18,
   "outputs": [
    {
     "output_type": "execute_result",
     "data": {
      "text/plain": [
       "is_trans\n",
       "f    107\n",
       "t     28\n",
       "Name: id, dtype: int64"
      ]
     },
     "metadata": {},
     "execution_count": 18
    }
   ]
  },
  {
   "cell_type": "markdown",
   "metadata": {
    "id": "TMqdhUYcusfy"
   },
   "source": [
    "**Challenge**: Change this into an h3 section heading: <h3>Understanding LEGO Themes vs. LEGO Sets</h3>"
   ]
  },
  {
   "cell_type": "markdown",
   "metadata": {
    "id": "y0kxCh63uwOv"
   },
   "source": [
    "Walk into a LEGO store and you will see their products organised by theme. Their themes include Star Wars, Batman, Harry Potter and many more.\n",
    "\n",
    "**Challenge**: Display this image: https://i.imgur.com/aKcwkSx.png\n",
    "<img src=\"https://i.imgur.com/aKcwkSx.png\">"
   ]
  },
  {
   "cell_type": "markdown",
   "metadata": {
    "dc": {
     "key": "c9d0e58653"
    },
    "run_control": {
     "frozen": true
    },
    "tags": [
     "context"
    ],
    "id": "u_xkZUF8Iqug"
   },
   "source": [
    "A lego set is a particular box of LEGO or product. Therefore, a single theme typically has many different sets.\n",
    "\n",
    "**Challenge**: Display this image https://i.imgur.com/whB1olq.png \n",
    "<img src=\"https://i.imgur.com/whB1olq.png\">"
   ]
  },
  {
   "cell_type": "markdown",
   "metadata": {
    "id": "jJTAROe5unkx"
   },
   "source": [
    "The <code>sets.csv</code> data contains a list of sets over the years and the number of parts that each of these sets contained.\n",
    "\n",
    "**Challenge**: Read the sets.csv data and take a look at the first and last couple of rows. "
   ]
  },
  {
   "cell_type": "code",
   "metadata": {
    "id": "vGMOv-NRIquh"
   },
   "source": [
    "sets = pd.read_csv('sets.csv')"
   ],
   "execution_count": 3,
   "outputs": []
  },
  {
   "cell_type": "code",
   "metadata": {
    "id": "T3lLFvyZIqui"
   },
   "source": [
    "sets.head()"
   ],
   "execution_count": 4,
   "outputs": [
    {
     "data": {
      "text/plain": "  set_num                        name  year  theme_id  num_parts\n0   001-1                       Gears  1965         1         43\n1  0011-2           Town Mini-Figures  1978        84         12\n2  0011-3  Castle 2 for 1 Bonus Offer  1987       199          0\n3  0012-1          Space Mini-Figures  1979       143         12\n4  0013-1          Space Mini-Figures  1979       143         12",
      "text/html": "<div>\n<style scoped>\n    .dataframe tbody tr th:only-of-type {\n        vertical-align: middle;\n    }\n\n    .dataframe tbody tr th {\n        vertical-align: top;\n    }\n\n    .dataframe thead th {\n        text-align: right;\n    }\n</style>\n<table border=\"1\" class=\"dataframe\">\n  <thead>\n    <tr style=\"text-align: right;\">\n      <th></th>\n      <th>set_num</th>\n      <th>name</th>\n      <th>year</th>\n      <th>theme_id</th>\n      <th>num_parts</th>\n    </tr>\n  </thead>\n  <tbody>\n    <tr>\n      <th>0</th>\n      <td>001-1</td>\n      <td>Gears</td>\n      <td>1965</td>\n      <td>1</td>\n      <td>43</td>\n    </tr>\n    <tr>\n      <th>1</th>\n      <td>0011-2</td>\n      <td>Town Mini-Figures</td>\n      <td>1978</td>\n      <td>84</td>\n      <td>12</td>\n    </tr>\n    <tr>\n      <th>2</th>\n      <td>0011-3</td>\n      <td>Castle 2 for 1 Bonus Offer</td>\n      <td>1987</td>\n      <td>199</td>\n      <td>0</td>\n    </tr>\n    <tr>\n      <th>3</th>\n      <td>0012-1</td>\n      <td>Space Mini-Figures</td>\n      <td>1979</td>\n      <td>143</td>\n      <td>12</td>\n    </tr>\n    <tr>\n      <th>4</th>\n      <td>0013-1</td>\n      <td>Space Mini-Figures</td>\n      <td>1979</td>\n      <td>143</td>\n      <td>12</td>\n    </tr>\n  </tbody>\n</table>\n</div>"
     },
     "execution_count": 4,
     "metadata": {},
     "output_type": "execute_result"
    }
   ]
  },
  {
   "cell_type": "code",
   "metadata": {
    "id": "XprDBmzwIquk"
   },
   "source": [
    "sets.tail()"
   ],
   "execution_count": 5,
   "outputs": [
    {
     "data": {
      "text/plain": "           set_num                                 name  year  theme_id  \\\n15705      wwgp1-1  Wild West Limited Edition Gift Pack  1996       476   \n15706   XMASTREE-1                       Christmas Tree  2019       410   \n15707      XWING-1                  Mini X-Wing Fighter  2019       158   \n15708      XWING-2                    X-Wing Trench Run  2019       158   \n15709  YODACHRON-1      Yoda Chronicles Promotional Set  2013       158   \n\n       num_parts  \n15705          0  \n15706         26  \n15707         60  \n15708         52  \n15709        413  ",
      "text/html": "<div>\n<style scoped>\n    .dataframe tbody tr th:only-of-type {\n        vertical-align: middle;\n    }\n\n    .dataframe tbody tr th {\n        vertical-align: top;\n    }\n\n    .dataframe thead th {\n        text-align: right;\n    }\n</style>\n<table border=\"1\" class=\"dataframe\">\n  <thead>\n    <tr style=\"text-align: right;\">\n      <th></th>\n      <th>set_num</th>\n      <th>name</th>\n      <th>year</th>\n      <th>theme_id</th>\n      <th>num_parts</th>\n    </tr>\n  </thead>\n  <tbody>\n    <tr>\n      <th>15705</th>\n      <td>wwgp1-1</td>\n      <td>Wild West Limited Edition Gift Pack</td>\n      <td>1996</td>\n      <td>476</td>\n      <td>0</td>\n    </tr>\n    <tr>\n      <th>15706</th>\n      <td>XMASTREE-1</td>\n      <td>Christmas Tree</td>\n      <td>2019</td>\n      <td>410</td>\n      <td>26</td>\n    </tr>\n    <tr>\n      <th>15707</th>\n      <td>XWING-1</td>\n      <td>Mini X-Wing Fighter</td>\n      <td>2019</td>\n      <td>158</td>\n      <td>60</td>\n    </tr>\n    <tr>\n      <th>15708</th>\n      <td>XWING-2</td>\n      <td>X-Wing Trench Run</td>\n      <td>2019</td>\n      <td>158</td>\n      <td>52</td>\n    </tr>\n    <tr>\n      <th>15709</th>\n      <td>YODACHRON-1</td>\n      <td>Yoda Chronicles Promotional Set</td>\n      <td>2013</td>\n      <td>158</td>\n      <td>413</td>\n    </tr>\n  </tbody>\n</table>\n</div>"
     },
     "execution_count": 5,
     "metadata": {},
     "output_type": "execute_result"
    }
   ]
  },
  {
   "cell_type": "markdown",
   "metadata": {
    "id": "ez-UXSMUIqum"
   },
   "source": [
    "**Challenge**: In which year were the first LEGO sets released and what were these sets called?"
   ]
  },
  {
   "cell_type": "code",
   "metadata": {
    "id": "s2aL6qrGIqum"
   },
   "source": [
    "sets[['name', 'year']][sets['year']==sets['year'].min()]\n"
   ],
   "execution_count": 19,
   "outputs": [
    {
     "data": {
      "text/plain": "                                   name  year\n9521         Extra-Large Gift Set (ABB)  1949\n9534               Large Gift Set (ABB)  1949\n9539              Medium Gift Set (ABB)  1949\n9544              Small Brick Set (ABB)  1949\n9545  Small Doors and Windows Set (ABB)  1949",
      "text/html": "<div>\n<style scoped>\n    .dataframe tbody tr th:only-of-type {\n        vertical-align: middle;\n    }\n\n    .dataframe tbody tr th {\n        vertical-align: top;\n    }\n\n    .dataframe thead th {\n        text-align: right;\n    }\n</style>\n<table border=\"1\" class=\"dataframe\">\n  <thead>\n    <tr style=\"text-align: right;\">\n      <th></th>\n      <th>name</th>\n      <th>year</th>\n    </tr>\n  </thead>\n  <tbody>\n    <tr>\n      <th>9521</th>\n      <td>Extra-Large Gift Set (ABB)</td>\n      <td>1949</td>\n    </tr>\n    <tr>\n      <th>9534</th>\n      <td>Large Gift Set (ABB)</td>\n      <td>1949</td>\n    </tr>\n    <tr>\n      <th>9539</th>\n      <td>Medium Gift Set (ABB)</td>\n      <td>1949</td>\n    </tr>\n    <tr>\n      <th>9544</th>\n      <td>Small Brick Set (ABB)</td>\n      <td>1949</td>\n    </tr>\n    <tr>\n      <th>9545</th>\n      <td>Small Doors and Windows Set (ABB)</td>\n      <td>1949</td>\n    </tr>\n  </tbody>\n</table>\n</div>"
     },
     "execution_count": 19,
     "metadata": {},
     "output_type": "execute_result"
    }
   ]
  },
  {
   "cell_type": "markdown",
   "metadata": {
    "id": "JJoK3M8TBAVU"
   },
   "source": [
    "**Challenge**: How many different sets did LEGO sell in their first year? How many types of LEGO products were on offer in the year the company started?"
   ]
  },
  {
   "cell_type": "code",
   "metadata": {
    "id": "h-Tf1w7IBBg9"
   },
   "source": [
    "sets[sets['year']==sets['year'].min()].count()"
   ],
   "execution_count": 20,
   "outputs": [
    {
     "data": {
      "text/plain": "set_num      5\nname         5\nyear         5\ntheme_id     5\nnum_parts    5\ndtype: int64"
     },
     "execution_count": 20,
     "metadata": {},
     "output_type": "execute_result"
    }
   ]
  },
  {
   "cell_type": "markdown",
   "metadata": {
    "id": "RJMMYQYqIquo"
   },
   "source": [
    "**Challenge**: Find the top 5 LEGO sets with the most number of parts. "
   ]
  },
  {
   "cell_type": "code",
   "metadata": {
    "id": "toJvjRuQIqup"
   },
   "source": [
    "sets.sort_values('num_parts', ascending=False, inplace=True)\n",
    "sets.head()\n"
   ],
   "execution_count": 22,
   "outputs": [
    {
     "data": {
      "text/plain": "        set_num                           name  year  theme_id  num_parts\n15004  BIGBOX-1  The Ultimate Battle for Chima  2015       571       9987\n11183   75192-1          UCS Millennium Falcon  2017       171       7541\n10551   71043-1                Hogwarts Castle  2018       246       6020\n295     10256-1                      Taj Mahal  2017       673       5923\n221     10189-1                      Taj Mahal  2008       673       5922",
      "text/html": "<div>\n<style scoped>\n    .dataframe tbody tr th:only-of-type {\n        vertical-align: middle;\n    }\n\n    .dataframe tbody tr th {\n        vertical-align: top;\n    }\n\n    .dataframe thead th {\n        text-align: right;\n    }\n</style>\n<table border=\"1\" class=\"dataframe\">\n  <thead>\n    <tr style=\"text-align: right;\">\n      <th></th>\n      <th>set_num</th>\n      <th>name</th>\n      <th>year</th>\n      <th>theme_id</th>\n      <th>num_parts</th>\n    </tr>\n  </thead>\n  <tbody>\n    <tr>\n      <th>15004</th>\n      <td>BIGBOX-1</td>\n      <td>The Ultimate Battle for Chima</td>\n      <td>2015</td>\n      <td>571</td>\n      <td>9987</td>\n    </tr>\n    <tr>\n      <th>11183</th>\n      <td>75192-1</td>\n      <td>UCS Millennium Falcon</td>\n      <td>2017</td>\n      <td>171</td>\n      <td>7541</td>\n    </tr>\n    <tr>\n      <th>10551</th>\n      <td>71043-1</td>\n      <td>Hogwarts Castle</td>\n      <td>2018</td>\n      <td>246</td>\n      <td>6020</td>\n    </tr>\n    <tr>\n      <th>295</th>\n      <td>10256-1</td>\n      <td>Taj Mahal</td>\n      <td>2017</td>\n      <td>673</td>\n      <td>5923</td>\n    </tr>\n    <tr>\n      <th>221</th>\n      <td>10189-1</td>\n      <td>Taj Mahal</td>\n      <td>2008</td>\n      <td>673</td>\n      <td>5922</td>\n    </tr>\n  </tbody>\n</table>\n</div>"
     },
     "execution_count": 22,
     "metadata": {},
     "output_type": "execute_result"
    }
   ]
  },
  {
   "cell_type": "markdown",
   "metadata": {
    "id": "uSyhOzAHIqur"
   },
   "source": [
    "**Challenge**: Use <code>.groupby()</code> and <code>.count()</code> to show the number of LEGO sets released year-on-year. How do the number of sets released in 1955 compare to the number of sets released in 2019? "
   ]
  },
  {
   "cell_type": "code",
   "metadata": {
    "scrolled": true,
    "id": "qjdrktZAIqus"
   },
   "source": [
    "sets.groupby('year').count()\n"
   ],
   "execution_count": 25,
   "outputs": [
    {
     "data": {
      "text/plain": "      set_num  name  theme_id  num_parts\nyear                                    \n1949        5     5         5          5\n1950        6     6         6          6\n1953        4     4         4          4\n1954       14    14        14         14\n1955       28    28        28         28\n...       ...   ...       ...        ...\n2017      786   786       786        786\n2018      816   816       816        816\n2019      840   840       840        840\n2020      674   674       674        674\n2021        3     3         3          3\n\n[71 rows x 4 columns]",
      "text/html": "<div>\n<style scoped>\n    .dataframe tbody tr th:only-of-type {\n        vertical-align: middle;\n    }\n\n    .dataframe tbody tr th {\n        vertical-align: top;\n    }\n\n    .dataframe thead th {\n        text-align: right;\n    }\n</style>\n<table border=\"1\" class=\"dataframe\">\n  <thead>\n    <tr style=\"text-align: right;\">\n      <th></th>\n      <th>set_num</th>\n      <th>name</th>\n      <th>theme_id</th>\n      <th>num_parts</th>\n    </tr>\n    <tr>\n      <th>year</th>\n      <th></th>\n      <th></th>\n      <th></th>\n      <th></th>\n    </tr>\n  </thead>\n  <tbody>\n    <tr>\n      <th>1949</th>\n      <td>5</td>\n      <td>5</td>\n      <td>5</td>\n      <td>5</td>\n    </tr>\n    <tr>\n      <th>1950</th>\n      <td>6</td>\n      <td>6</td>\n      <td>6</td>\n      <td>6</td>\n    </tr>\n    <tr>\n      <th>1953</th>\n      <td>4</td>\n      <td>4</td>\n      <td>4</td>\n      <td>4</td>\n    </tr>\n    <tr>\n      <th>1954</th>\n      <td>14</td>\n      <td>14</td>\n      <td>14</td>\n      <td>14</td>\n    </tr>\n    <tr>\n      <th>1955</th>\n      <td>28</td>\n      <td>28</td>\n      <td>28</td>\n      <td>28</td>\n    </tr>\n    <tr>\n      <th>...</th>\n      <td>...</td>\n      <td>...</td>\n      <td>...</td>\n      <td>...</td>\n    </tr>\n    <tr>\n      <th>2017</th>\n      <td>786</td>\n      <td>786</td>\n      <td>786</td>\n      <td>786</td>\n    </tr>\n    <tr>\n      <th>2018</th>\n      <td>816</td>\n      <td>816</td>\n      <td>816</td>\n      <td>816</td>\n    </tr>\n    <tr>\n      <th>2019</th>\n      <td>840</td>\n      <td>840</td>\n      <td>840</td>\n      <td>840</td>\n    </tr>\n    <tr>\n      <th>2020</th>\n      <td>674</td>\n      <td>674</td>\n      <td>674</td>\n      <td>674</td>\n    </tr>\n    <tr>\n      <th>2021</th>\n      <td>3</td>\n      <td>3</td>\n      <td>3</td>\n      <td>3</td>\n    </tr>\n  </tbody>\n</table>\n<p>71 rows × 4 columns</p>\n</div>"
     },
     "execution_count": 25,
     "metadata": {},
     "output_type": "execute_result"
    }
   ]
  },
  {
   "cell_type": "code",
   "metadata": {
    "id": "tFInsHOkIqut"
   },
   "source": [],
   "execution_count": 35,
   "outputs": [
    {
     "data": {
      "text/plain": "       set_num                                name  year  theme_id  num_parts\n5394   41913-1  Creative Friendship Bracelets Pack  2020       688        280\n1945   21163-1                 The Redstone Battle  2020       577        511\n11335  75547-1            Minion Pilot in Training  2021       689          0\n11334  75546-1                Minions in Gru’s Lab  2021       689          0\n11337  75550-1              Minions Kung Fu Battle  2021       689          0",
      "text/html": "<div>\n<style scoped>\n    .dataframe tbody tr th:only-of-type {\n        vertical-align: middle;\n    }\n\n    .dataframe tbody tr th {\n        vertical-align: top;\n    }\n\n    .dataframe thead th {\n        text-align: right;\n    }\n</style>\n<table border=\"1\" class=\"dataframe\">\n  <thead>\n    <tr style=\"text-align: right;\">\n      <th></th>\n      <th>set_num</th>\n      <th>name</th>\n      <th>year</th>\n      <th>theme_id</th>\n      <th>num_parts</th>\n    </tr>\n  </thead>\n  <tbody>\n    <tr>\n      <th>5394</th>\n      <td>41913-1</td>\n      <td>Creative Friendship Bracelets Pack</td>\n      <td>2020</td>\n      <td>688</td>\n      <td>280</td>\n    </tr>\n    <tr>\n      <th>1945</th>\n      <td>21163-1</td>\n      <td>The Redstone Battle</td>\n      <td>2020</td>\n      <td>577</td>\n      <td>511</td>\n    </tr>\n    <tr>\n      <th>11335</th>\n      <td>75547-1</td>\n      <td>Minion Pilot in Training</td>\n      <td>2021</td>\n      <td>689</td>\n      <td>0</td>\n    </tr>\n    <tr>\n      <th>11334</th>\n      <td>75546-1</td>\n      <td>Minions in Gru’s Lab</td>\n      <td>2021</td>\n      <td>689</td>\n      <td>0</td>\n    </tr>\n    <tr>\n      <th>11337</th>\n      <td>75550-1</td>\n      <td>Minions Kung Fu Battle</td>\n      <td>2021</td>\n      <td>689</td>\n      <td>0</td>\n    </tr>\n  </tbody>\n</table>\n</div>"
     },
     "execution_count": 35,
     "metadata": {},
     "output_type": "execute_result"
    }
   ]
  },
  {
   "cell_type": "markdown",
   "metadata": {
    "id": "xJrmIOULIquv"
   },
   "source": [
    "**Challenge**: Show the number of LEGO releases on a line chart using Matplotlib. <br>\n",
    "<br>\n",
    "Note that the .csv file is from late 2020, so to plot the full calendar years, you will have to exclude some data from your chart. Can you use the slicing techniques covered in Day 21 to avoid plotting the last two years? The same syntax will work on Pandas DataFrames. "
   ]
  },
  {
   "cell_type": "code",
   "metadata": {
    "id": "Nckj4lSGIquw"
   },
   "source": [
    "sets_by_year = sets.groupby('year').count()\n",
    "sets_by_year['set_num'].head()\n",
    "\n",
    "\n"
   ],
   "execution_count": 40,
   "outputs": [
    {
     "data": {
      "text/plain": "year\n1949     5\n1950     6\n1953     4\n1954    14\n1955    28\nName: set_num, dtype: int64"
     },
     "execution_count": 40,
     "metadata": {},
     "output_type": "execute_result"
    }
   ]
  },
  {
   "cell_type": "code",
   "metadata": {
    "id": "_ZqAN-5MIquz"
   },
   "source": [
    "plt.plot(sets_by_year.index[:-2], sets_by_year.set_num[:-2])\n"
   ],
   "execution_count": 42,
   "outputs": [
    {
     "data": {
      "text/plain": "[<matplotlib.lines.Line2D at 0x2376551dd30>]"
     },
     "execution_count": 42,
     "metadata": {},
     "output_type": "execute_result"
    },
    {
     "data": {
      "text/plain": "<Figure size 432x288 with 1 Axes>",
      "image/png": "[encoded data removed]"
     },
     "metadata": {
      "needs_background": "light"
     },
     "output_type": "display_data"
    }
   ]
  },
  {
   "cell_type": "markdown",
   "metadata": {
    "id": "xrDeNYYXIqu1"
   },
   "source": [
    "### Aggregate Data with the Python .agg() Function\n",
    "\n",
    "Let's work out the number of different themes shipped by year. This means we have to count the number of unique theme_ids per calendar year."
   ]
  },
  {
   "cell_type": "code",
   "metadata": {
    "dc": {
     "key": "266a3f390c"
    },
    "tags": [
     "sample_code"
    ],
    "id": "qx8pTau4Iqu2"
   },
   "source": [
    "themes_by_year = sets.groupby('year').agg({\"theme_id\": pd.Series.nunique})\n"
   ],
   "execution_count": 43,
   "outputs": []
  },
  {
   "cell_type": "code",
   "metadata": {
    "id": "BqF1o997Iqu3"
   },
   "source": [
    "themes_by_year.rename(columns= {'theme_id': 'nr_theme'}, inplace=True)\n",
    "themes_by_year.head()\n",
    "themes_by_year.tail()"
   ],
   "execution_count": 45,
   "outputs": [
    {
     "data": {
      "text/plain": "      nr_theme\nyear          \n2017        89\n2018        93\n2019        78\n2020        82\n2021         1",
      "text/html": "<div>\n<style scoped>\n    .dataframe tbody tr th:only-of-type {\n        vertical-align: middle;\n    }\n\n    .dataframe tbody tr th {\n        vertical-align: top;\n    }\n\n    .dataframe thead th {\n        text-align: right;\n    }\n</style>\n<table border=\"1\" class=\"dataframe\">\n  <thead>\n    <tr style=\"text-align: right;\">\n      <th></th>\n      <th>nr_theme</th>\n    </tr>\n    <tr>\n      <th>year</th>\n      <th></th>\n    </tr>\n  </thead>\n  <tbody>\n    <tr>\n      <th>2017</th>\n      <td>89</td>\n    </tr>\n    <tr>\n      <th>2018</th>\n      <td>93</td>\n    </tr>\n    <tr>\n      <th>2019</th>\n      <td>78</td>\n    </tr>\n    <tr>\n      <th>2020</th>\n      <td>82</td>\n    </tr>\n    <tr>\n      <th>2021</th>\n      <td>1</td>\n    </tr>\n  </tbody>\n</table>\n</div>"
     },
     "execution_count": 45,
     "metadata": {},
     "output_type": "execute_result"
    }
   ]
  },
  {
   "cell_type": "markdown",
   "metadata": {
    "id": "immCqqw1Iqu5"
   },
   "source": [
    "**Challenge**: Plot the number of themes released by year on a line chart. Only include the full calendar years (i.e., exclude 2020 and 2021). "
   ]
  },
  {
   "cell_type": "code",
   "metadata": {
    "id": "r2pamQEkIqu5"
   },
   "source": [
    "plt.plot(themes_by_year.index[:-2], themes_by_year.nr_theme[:-2])"
   ],
   "execution_count": 46,
   "outputs": [
    {
     "data": {
      "text/plain": "[<matplotlib.lines.Line2D at 0x23765092130>]"
     },
     "execution_count": 46,
     "metadata": {},
     "output_type": "execute_result"
    },
    {
     "data": {
      "text/plain": "<Figure size 432x288 with 1 Axes>",
      "image/png": "[encoded data removed]"
     },
     "metadata": {
      "needs_background": "light"
     },
     "output_type": "display_data"
    }
   ]
  },
  {
   "cell_type": "markdown",
   "metadata": {
    "id": "uBbt9-lJIqu7"
   },
   "source": [
    "### Line Charts with Two Seperate Axes"
   ]
  },
  {
   "cell_type": "code",
   "metadata": {
    "id": "j7lQ_amFIqu7"
   },
   "source": [
    "ax1 = plt.gca()\n",
    "ax2 = ax1.twinx()\n",
    "\n",
    "ax1.plot(sets_by_year.index[:-2], sets_by_year.set_num[:-2], color='g')\n",
    "ax2.plot(themes_by_year.index[:-2], themes_by_year.nr_theme[:-2], color='b')\n",
    "\n",
    "ax1.set_xlabel('Year')\n",
    "ax1.set_ylabel('Number of sets', color='green')\n",
    "ax2.set_ylabel('Number of themes', color='blue')"
   ],
   "execution_count": 49,
   "outputs": [
    {
     "data": {
      "text/plain": "Text(0, 0.5, 'Number of themes')"
     },
     "execution_count": 49,
     "metadata": {},
     "output_type": "execute_result"
    },
    {
     "data": {
      "text/plain": "<Figure size 432x288 with 2 Axes>",
      "image/png": "[encoded data removed]"
     },
     "metadata": {
      "needs_background": "light"
     },
     "output_type": "display_data"
    }
   ]
  },
  {
   "cell_type": "markdown",
   "metadata": {
    "id": "7BHYaUf-Iqu9"
   },
   "source": [
    "**Challenge**: Use the <code>.groupby()</code> and <code>.agg()</code> function together to figure out the average number of parts per set. How many parts did the average LEGO set released in 1954 compared to say, 2017?"
   ]
  },
  {
   "cell_type": "code",
   "metadata": {
    "id": "W7BcH9vuIqu9"
   },
   "source": [
    "parts_per_set = sets.groupby('year').agg({'num_parts': pd.Series.mean})\n",
    "parts_per_set.head()"
   ],
   "execution_count": 50,
   "outputs": [
    {
     "data": {
      "text/plain": "      num_parts\nyear           \n1949  99.600000\n1950   1.000000\n1953  13.500000\n1954  12.357143\n1955  36.607143",
      "text/html": "<div>\n<style scoped>\n    .dataframe tbody tr th:only-of-type {\n        vertical-align: middle;\n    }\n\n    .dataframe tbody tr th {\n        vertical-align: top;\n    }\n\n    .dataframe thead th {\n        text-align: right;\n    }\n</style>\n<table border=\"1\" class=\"dataframe\">\n  <thead>\n    <tr style=\"text-align: right;\">\n      <th></th>\n      <th>num_parts</th>\n    </tr>\n    <tr>\n      <th>year</th>\n      <th></th>\n    </tr>\n  </thead>\n  <tbody>\n    <tr>\n      <th>1949</th>\n      <td>99.600000</td>\n    </tr>\n    <tr>\n      <th>1950</th>\n      <td>1.000000</td>\n    </tr>\n    <tr>\n      <th>1953</th>\n      <td>13.500000</td>\n    </tr>\n    <tr>\n      <th>1954</th>\n      <td>12.357143</td>\n    </tr>\n    <tr>\n      <th>1955</th>\n      <td>36.607143</td>\n    </tr>\n  </tbody>\n</table>\n</div>"
     },
     "execution_count": 50,
     "metadata": {},
     "output_type": "execute_result"
    }
   ]
  },
  {
   "cell_type": "code",
   "metadata": {
    "id": "fjbb3tZcIqu_"
   },
   "source": [
    "parts_per_set.rename(columns={'num_parts':'average_num_parts'}, inplace=True)\n",
    "parts_per_set.head()"
   ],
   "execution_count": 54,
   "outputs": [
    {
     "data": {
      "text/plain": "      average_num_parts\nyear                   \n1949          99.600000\n1950           1.000000\n1953          13.500000\n1954          12.357143\n1955          36.607143",
      "text/html": "<div>\n<style scoped>\n    .dataframe tbody tr th:only-of-type {\n        vertical-align: middle;\n    }\n\n    .dataframe tbody tr th {\n        vertical-align: top;\n    }\n\n    .dataframe thead th {\n        text-align: right;\n    }\n</style>\n<table border=\"1\" class=\"dataframe\">\n  <thead>\n    <tr style=\"text-align: right;\">\n      <th></th>\n      <th>average_num_parts</th>\n    </tr>\n    <tr>\n      <th>year</th>\n      <th></th>\n    </tr>\n  </thead>\n  <tbody>\n    <tr>\n      <th>1949</th>\n      <td>99.600000</td>\n    </tr>\n    <tr>\n      <th>1950</th>\n      <td>1.000000</td>\n    </tr>\n    <tr>\n      <th>1953</th>\n      <td>13.500000</td>\n    </tr>\n    <tr>\n      <th>1954</th>\n      <td>12.357143</td>\n    </tr>\n    <tr>\n      <th>1955</th>\n      <td>36.607143</td>\n    </tr>\n  </tbody>\n</table>\n</div>"
     },
     "execution_count": 54,
     "metadata": {},
     "output_type": "execute_result"
    }
   ]
  },
  {
   "cell_type": "markdown",
   "metadata": {
    "id": "bAeTe2XqIqvB"
   },
   "source": [
    "### Scatter Plots in Matplotlib"
   ]
  },
  {
   "cell_type": "markdown",
   "metadata": {
    "id": "SAViZ_TYIqvB"
   },
   "source": [
    "**Challenge**: Has the size and complexity of LEGO sets increased over time based on the number of parts? Plot the average number of parts over time using a Matplotlib scatter plot. See if you can use the [scatter plot documentation](https://matplotlib.org/3.1.0/api/_as_gen/matplotlib.pyplot.scatter.html) before I show you the solution. Do you spot a trend in the chart? "
   ]
  },
  {
   "cell_type": "code",
   "metadata": {
    "id": "EQNZ0D7JIqvB"
   },
   "source": [
    "plt.scatter(parts_per_set.index[:-2], parts_per_set.average_num_parts[:-2])\n"
   ],
   "execution_count": 55,
   "outputs": [
    {
     "data": {
      "text/plain": "<matplotlib.collections.PathCollection at 0x23764790970>"
     },
     "execution_count": 55,
     "metadata": {},
     "output_type": "execute_result"
    },
    {
     "data": {
      "text/plain": "<Figure size 432x288 with 1 Axes>",
      "image/png": "[encoded data removed]"
     },
     "metadata": {
      "needs_background": "light"
     },
     "output_type": "display_data"
    }
   ]
  },
  {
   "cell_type": "markdown",
   "metadata": {
    "id": "xK226Ip-IqvE"
   },
   "source": [
    "### Number of Sets per LEGO Theme"
   ]
  },
  {
   "cell_type": "markdown",
   "metadata": {
    "id": "VKHa1FePIqvE"
   },
   "source": [
    "LEGO has licensed many hit franchises from Harry Potter to Marvel Super Heros to many others. But which theme has the largest number of individual sets? "
   ]
  },
  {
   "cell_type": "code",
   "metadata": {
    "id": "hOBcNrC9IqvE"
   },
   "source": [
    "set_theme_count = sets.theme_id.value_counts()\n",
    "set_theme_count.head()\n"
   ],
   "execution_count": 57,
   "outputs": [
    {
     "data": {
      "text/plain": "158    753\n501    655\n494    398\n435    356\n505    328\nName: theme_id, dtype: int64"
     },
     "execution_count": 57,
     "metadata": {},
     "output_type": "execute_result"
    }
   ]
  },
  {
   "cell_type": "markdown",
   "metadata": {
    "id": "J-i6JULGIqvG"
   },
   "source": [
    "**Challenge** Use what you know about HTML markup and tags to display the database schema: https://i.imgur.com/Sg4lcjx.png"
   ]
  },
  {
   "cell_type": "markdown",
   "metadata": {
    "id": "27oDwiPHIqvH"
   },
   "source": [
    "<img src=\"https://i.imgur.com/Sg4lcjx.png\">\n"
   ]
  },
  {
   "cell_type": "markdown",
   "metadata": {
    "id": "J_0iuerKIqvG"
   },
   "source": [
    "### Database Schemas, Foreign Keys and Merging DataFrames\n",
    "\n",
    "The themes.csv file has the actual theme names. The sets .csv has <code>theme_ids</code> which link to the <code>id</code> column in the themes.csv. "
   ]
  },
  {
   "cell_type": "markdown",
   "metadata": {
    "id": "cp1tMW6oIqvH"
   },
   "source": [
    "**Challenge**: Explore the themes.csv. How is it structured? Search for the name 'Star Wars'. How many <code>id</code>s correspond to this name in the themes.csv? Now use these <code>id</code>s and find the corresponding the sets in the sets.csv (Hint: you'll need to look for matches in the <code>theme_id</code> column)"
   ]
  },
  {
   "cell_type": "code",
   "metadata": {
    "id": "3uN3wN5sIqvH"
   },
   "source": [
    "themes = pd.read_csv('themes.csv')\n"
   ],
   "execution_count": 58,
   "outputs": []
  },
  {
   "cell_type": "code",
   "metadata": {
    "id": "xAO2XlQGIqvJ"
   },
   "source": [
    "themes.shape"
   ],
   "execution_count": 59,
   "outputs": [
    {
     "data": {
      "text/plain": "(596, 3)"
     },
     "execution_count": 59,
     "metadata": {},
     "output_type": "execute_result"
    }
   ]
  },
  {
   "cell_type": "code",
   "metadata": {
    "id": "xYEDlY-_IqvL"
   },
   "source": [
    "themes.columns\n"
   ],
   "execution_count": 60,
   "outputs": [
    {
     "data": {
      "text/plain": "Index(['id', 'name', 'parent_id'], dtype='object')"
     },
     "execution_count": 60,
     "metadata": {},
     "output_type": "execute_result"
    }
   ]
  },
  {
   "cell_type": "code",
   "metadata": {
    "scrolled": true,
    "id": "qBhckawNIqvN"
   },
   "source": [
    "themes['id'][themes['name']=='Star Wars']"
   ],
   "execution_count": 68,
   "outputs": [
    {
     "data": {
      "text/plain": "17      18\n150    158\n174    209\n211    261\nName: id, dtype: int64"
     },
     "execution_count": 68,
     "metadata": {},
     "output_type": "execute_result"
    }
   ]
  },
  {
   "cell_type": "code",
   "metadata": {
    "scrolled": true,
    "id": "aqt07DSTIqvP"
   },
   "source": [
    "sets[sets.theme_id==261]"
   ],
   "execution_count": 74,
   "outputs": [
    {
     "data": {
      "text/plain": "      set_num                      name  year  theme_id  num_parts\n14630  9748-1       Droid Developer Kit  1999       261        658\n14636  9754-1  Dark Side Developers Kit  2000       261        578",
      "text/html": "<div>\n<style scoped>\n    .dataframe tbody tr th:only-of-type {\n        vertical-align: middle;\n    }\n\n    .dataframe tbody tr th {\n        vertical-align: top;\n    }\n\n    .dataframe thead th {\n        text-align: right;\n    }\n</style>\n<table border=\"1\" class=\"dataframe\">\n  <thead>\n    <tr style=\"text-align: right;\">\n      <th></th>\n      <th>set_num</th>\n      <th>name</th>\n      <th>year</th>\n      <th>theme_id</th>\n      <th>num_parts</th>\n    </tr>\n  </thead>\n  <tbody>\n    <tr>\n      <th>14630</th>\n      <td>9748-1</td>\n      <td>Droid Developer Kit</td>\n      <td>1999</td>\n      <td>261</td>\n      <td>658</td>\n    </tr>\n    <tr>\n      <th>14636</th>\n      <td>9754-1</td>\n      <td>Dark Side Developers Kit</td>\n      <td>2000</td>\n      <td>261</td>\n      <td>578</td>\n    </tr>\n  </tbody>\n</table>\n</div>"
     },
     "execution_count": 74,
     "metadata": {},
     "output_type": "execute_result"
    }
   ]
  },
  {
   "cell_type": "markdown",
   "metadata": {
    "id": "SmTCXWKKIqvQ"
   },
   "source": [
    "### Merging (i.e., Combining) DataFrames based on a Key\n"
   ]
  },
  {
   "cell_type": "code",
   "metadata": {
    "id": "esKQULhcIqvR"
   },
   "source": [
    "set_theme_count = pd.DataFrame({'id': set_theme_count.index,\n",
    "                                'set_count':set_theme_count.values})\n"
   ],
   "execution_count": 75,
   "outputs": []
  },
  {
   "cell_type": "code",
   "metadata": {
    "id": "i0LobgIvIqvT"
   },
   "source": [
    "set_theme_count.head()"
   ],
   "execution_count": 76,
   "outputs": [
    {
     "data": {
      "text/plain": "    id  set_count\n0  158        753\n1  501        655\n2  494        398\n3  435        356\n4  505        328",
      "text/html": "<div>\n<style scoped>\n    .dataframe tbody tr th:only-of-type {\n        vertical-align: middle;\n    }\n\n    .dataframe tbody tr th {\n        vertical-align: top;\n    }\n\n    .dataframe thead th {\n        text-align: right;\n    }\n</style>\n<table border=\"1\" class=\"dataframe\">\n  <thead>\n    <tr style=\"text-align: right;\">\n      <th></th>\n      <th>id</th>\n      <th>set_count</th>\n    </tr>\n  </thead>\n  <tbody>\n    <tr>\n      <th>0</th>\n      <td>158</td>\n      <td>753</td>\n    </tr>\n    <tr>\n      <th>1</th>\n      <td>501</td>\n      <td>655</td>\n    </tr>\n    <tr>\n      <th>2</th>\n      <td>494</td>\n      <td>398</td>\n    </tr>\n    <tr>\n      <th>3</th>\n      <td>435</td>\n      <td>356</td>\n    </tr>\n    <tr>\n      <th>4</th>\n      <td>505</td>\n      <td>328</td>\n    </tr>\n  </tbody>\n</table>\n</div>"
     },
     "execution_count": 76,
     "metadata": {},
     "output_type": "execute_result"
    }
   ]
  },
  {
   "cell_type": "code",
   "metadata": {
    "id": "I7UMP7VXIqvU"
   },
   "source": [
    "merged_df = pd.merge(set_theme_count, themes, on='id')\n",
    "merged_df[:3]"
   ],
   "execution_count": 77,
   "outputs": [
    {
     "data": {
      "text/plain": "    id  set_count       name  parent_id\n0  158        753  Star Wars        NaN\n1  501        655       Gear        NaN\n2  494        398    Friends        NaN",
      "text/html": "<div>\n<style scoped>\n    .dataframe tbody tr th:only-of-type {\n        vertical-align: middle;\n    }\n\n    .dataframe tbody tr th {\n        vertical-align: top;\n    }\n\n    .dataframe thead th {\n        text-align: right;\n    }\n</style>\n<table border=\"1\" class=\"dataframe\">\n  <thead>\n    <tr style=\"text-align: right;\">\n      <th></th>\n      <th>id</th>\n      <th>set_count</th>\n      <th>name</th>\n      <th>parent_id</th>\n    </tr>\n  </thead>\n  <tbody>\n    <tr>\n      <th>0</th>\n      <td>158</td>\n      <td>753</td>\n      <td>Star Wars</td>\n      <td>NaN</td>\n    </tr>\n    <tr>\n      <th>1</th>\n      <td>501</td>\n      <td>655</td>\n      <td>Gear</td>\n      <td>NaN</td>\n    </tr>\n    <tr>\n      <th>2</th>\n      <td>494</td>\n      <td>398</td>\n      <td>Friends</td>\n      <td>NaN</td>\n    </tr>\n  </tbody>\n</table>\n</div>"
     },
     "execution_count": 77,
     "metadata": {},
     "output_type": "execute_result"
    }
   ]
  },
  {
   "cell_type": "code",
   "execution_count": 78,
   "outputs": [
    {
     "data": {
      "text/plain": "<BarContainer object of 10 artists>"
     },
     "execution_count": 78,
     "metadata": {},
     "output_type": "execute_result"
    },
    {
     "data": {
      "text/plain": "<Figure size 432x288 with 1 Axes>",
      "image/png": "[encoded data removed]"
     },
     "metadata": {
      "needs_background": "light"
     },
     "output_type": "display_data"
    }
   ],
   "source": [
    "plt.bar(merged_df.name[:10], merged_df.set_count[:10])"
   ],
   "metadata": {
    "collapsed": false,
    "pycharm": {
     "name": "#%%\n"
    }
   }
  },
  {
   "cell_type": "code",
   "execution_count": 79,
   "outputs": [
    {
     "data": {
      "text/plain": "<BarContainer object of 10 artists>"
     },
     "execution_count": 79,
     "metadata": {},
     "output_type": "execute_result"
    },
    {
     "data": {
      "text/plain": "<Figure size 1008x576 with 1 Axes>",
      "image/png": "[encoded data removed]"
     },
     "metadata": {
      "needs_background": "light"
     },
     "output_type": "display_data"
    }
   ],
   "source": [
    "plt.figure(figsize=(14,8))\n",
    "plt.xticks(fontsize=14, rotation=45)\n",
    "plt.yticks(fontsize=14)\n",
    "plt.xlabel('Theme name', fontsize=14)\n",
    "plt.ylabel('Nr of sets', fontsize=14)\n",
    "\n",
    "plt.bar(merged_df.name[:10], merged_df.set_count[:10])"
   ],
   "metadata": {
    "collapsed": false,
    "pycharm": {
     "name": "#%%\n"
    }
   }
  },
  {
   "cell_type": "code",
   "execution_count": null,
   "outputs": [],
   "source": [],
   "metadata": {
    "collapsed": false,
    "pycharm": {
     "name": "#%%\n"
    }
   }
  }
 ]
}